{
 "cells": [
  {
   "cell_type": "code",
   "execution_count": 1,
   "metadata": {},
   "outputs": [
    {
     "data": {
      "text/html": [
       "<pre style=\"white-space:pre;overflow-x:auto;line-height:normal;font-family:Menlo,'DejaVu Sans Mono',consolas,'Courier New',monospace\">Accessing as aniketjayant953\n",
       "</pre>\n"
      ],
      "text/plain": [
       "Accessing as aniketjayant953\n"
      ]
     },
     "metadata": {},
     "output_type": "display_data"
    },
    {
     "data": {
      "text/html": [
       "<pre style=\"white-space:pre;overflow-x:auto;line-height:normal;font-family:Menlo,'DejaVu Sans Mono',consolas,'Courier New',monospace\">Initialized MLflow to track repo <span style=\"color: #008000; text-decoration-color: #008000\">\"aniketjayant953/ML-OPs-Mini-Project\"</span>\n",
       "</pre>\n"
      ],
      "text/plain": [
       "Initialized MLflow to track repo \u001b[32m\"aniketjayant953/ML-OPs-Mini-Project\"\u001b[0m\n"
      ]
     },
     "metadata": {},
     "output_type": "display_data"
    },
    {
     "data": {
      "text/html": [
       "<pre style=\"white-space:pre;overflow-x:auto;line-height:normal;font-family:Menlo,'DejaVu Sans Mono',consolas,'Courier New',monospace\">Repository aniketjayant953/ML-OPs-Mini-Project initialized!\n",
       "</pre>\n"
      ],
      "text/plain": [
       "Repository aniketjayant953/ML-OPs-Mini-Project initialized!\n"
      ]
     },
     "metadata": {},
     "output_type": "display_data"
    },
    {
     "name": "stderr",
     "output_type": "stream",
     "text": [
      "C:\\Users\\Aniket\\AppData\\Local\\Temp\\ipykernel_30124\\3740609535.py:87: FutureWarning: Downcasting behavior in `replace` is deprecated and will be removed in a future version. To retain the old behavior, explicitly call `result.infer_objects(copy=False)`. To opt-in to the future behavior, set `pd.set_option('future.no_silent_downcasting', True)`\n",
      "  df['sentiment'] = df['sentiment'].replace({'sadness':0, 'happiness':1})\n",
      "2025/02/12 11:46:05 WARNING mlflow.models.model: Model logged without a signature and input example. Please set `input_example` parameter when logging the model to auto infer the model signature.\n"
     ]
    },
    {
     "name": "stdout",
     "output_type": "stream",
     "text": [
      "Algorithm: LogisticRegression, Feature Engineering: BoW\n",
      "Accuracy: 0.7951807228915663\n",
      "Precision: 0.7858527131782945\n",
      "Recall: 0.7990147783251231\n",
      "F1 Score: 0.7923790913531998\n",
      "🏃 View run LogisticRegression with BoW at: https://dagshub.com/aniketjayant953/ML-OPs-Mini-Project.mlflow/#/experiments/1/runs/805c5c5d9bad427e9bf692914565c13c\n",
      "🧪 View experiment at: https://dagshub.com/aniketjayant953/ML-OPs-Mini-Project.mlflow/#/experiments/1\n"
     ]
    },
    {
     "name": "stderr",
     "output_type": "stream",
     "text": [
      "2025/02/12 11:46:22 WARNING mlflow.models.model: Model logged without a signature and input example. Please set `input_example` parameter when logging the model to auto infer the model signature.\n"
     ]
    },
    {
     "name": "stdout",
     "output_type": "stream",
     "text": [
      "Algorithm: LogisticRegression, Feature Engineering: TF-IDF\n",
      "Accuracy: 0.7946987951807228\n",
      "Precision: 0.7791469194312797\n",
      "Recall: 0.8098522167487685\n",
      "F1 Score: 0.7942028985507247\n",
      "🏃 View run LogisticRegression with TF-IDF at: https://dagshub.com/aniketjayant953/ML-OPs-Mini-Project.mlflow/#/experiments/1/runs/8c882068734040c4bfd2d366e70680a3\n",
      "🧪 View experiment at: https://dagshub.com/aniketjayant953/ML-OPs-Mini-Project.mlflow/#/experiments/1\n"
     ]
    },
    {
     "name": "stderr",
     "output_type": "stream",
     "text": [
      "2025/02/12 11:46:37 WARNING mlflow.models.model: Model logged without a signature and input example. Please set `input_example` parameter when logging the model to auto infer the model signature.\n"
     ]
    },
    {
     "name": "stdout",
     "output_type": "stream",
     "text": [
      "Algorithm: MultinomialNB, Feature Engineering: BoW\n",
      "Accuracy: 0.7836144578313253\n",
      "Precision: 0.7801980198019802\n",
      "Recall: 0.7763546798029557\n",
      "F1 Score: 0.7782716049382716\n",
      "🏃 View run MultinomialNB with BoW at: https://dagshub.com/aniketjayant953/ML-OPs-Mini-Project.mlflow/#/experiments/1/runs/66231eaae0e643f6a4c048c6c74f3c8c\n",
      "🧪 View experiment at: https://dagshub.com/aniketjayant953/ML-OPs-Mini-Project.mlflow/#/experiments/1\n"
     ]
    },
    {
     "name": "stderr",
     "output_type": "stream",
     "text": [
      "2025/02/12 11:46:56 WARNING mlflow.models.model: Model logged without a signature and input example. Please set `input_example` parameter when logging the model to auto infer the model signature.\n"
     ]
    },
    {
     "name": "stdout",
     "output_type": "stream",
     "text": [
      "Algorithm: MultinomialNB, Feature Engineering: TF-IDF\n",
      "Accuracy: 0.7831325301204819\n",
      "Precision: 0.7745383867832848\n",
      "Recall: 0.7852216748768472\n",
      "F1 Score: 0.7798434442270059\n",
      "🏃 View run MultinomialNB with TF-IDF at: https://dagshub.com/aniketjayant953/ML-OPs-Mini-Project.mlflow/#/experiments/1/runs/82def91dba024ebabdb96232519de247\n",
      "🧪 View experiment at: https://dagshub.com/aniketjayant953/ML-OPs-Mini-Project.mlflow/#/experiments/1\n"
     ]
    },
    {
     "name": "stderr",
     "output_type": "stream",
     "text": [
      "2025/02/12 11:47:17 WARNING mlflow.models.model: Model logged without a signature and input example. Please set `input_example` parameter when logging the model to auto infer the model signature.\n"
     ]
    },
    {
     "name": "stdout",
     "output_type": "stream",
     "text": [
      "Algorithm: XGBoost, Feature Engineering: BoW\n",
      "Accuracy: 0.7739759036144578\n",
      "Precision: 0.7954545454545454\n",
      "Recall: 0.7241379310344828\n",
      "F1 Score: 0.7581227436823105\n",
      "🏃 View run XGBoost with BoW at: https://dagshub.com/aniketjayant953/ML-OPs-Mini-Project.mlflow/#/experiments/1/runs/95e343239d6c4c8ebbb7bdae71000ecf\n",
      "🧪 View experiment at: https://dagshub.com/aniketjayant953/ML-OPs-Mini-Project.mlflow/#/experiments/1\n"
     ]
    },
    {
     "name": "stderr",
     "output_type": "stream",
     "text": [
      "2025/02/12 11:47:37 WARNING mlflow.models.model: Model logged without a signature and input example. Please set `input_example` parameter when logging the model to auto infer the model signature.\n"
     ]
    },
    {
     "name": "stdout",
     "output_type": "stream",
     "text": [
      "Algorithm: XGBoost, Feature Engineering: TF-IDF\n",
      "Accuracy: 0.7614457831325301\n",
      "Precision: 0.7192242833052277\n",
      "Recall: 0.8403940886699507\n",
      "F1 Score: 0.7751022262607905\n",
      "🏃 View run XGBoost with TF-IDF at: https://dagshub.com/aniketjayant953/ML-OPs-Mini-Project.mlflow/#/experiments/1/runs/a5f35447789e4faca63c5d3b6efdf3db\n",
      "🧪 View experiment at: https://dagshub.com/aniketjayant953/ML-OPs-Mini-Project.mlflow/#/experiments/1\n"
     ]
    },
    {
     "name": "stderr",
     "output_type": "stream",
     "text": [
      "2025/02/12 11:48:50 WARNING mlflow.models.model: Model logged without a signature and input example. Please set `input_example` parameter when logging the model to auto infer the model signature.\n"
     ]
    },
    {
     "name": "stdout",
     "output_type": "stream",
     "text": [
      "Algorithm: RandomForest, Feature Engineering: BoW\n",
      "Accuracy: 0.7691566265060241\n",
      "Precision: 0.7827004219409283\n",
      "Recall: 0.7310344827586207\n",
      "F1 Score: 0.7559857361181864\n",
      "🏃 View run RandomForest with BoW at: https://dagshub.com/aniketjayant953/ML-OPs-Mini-Project.mlflow/#/experiments/1/runs/8f4e0390bcc2455ab3cba125296ca7ce\n",
      "🧪 View experiment at: https://dagshub.com/aniketjayant953/ML-OPs-Mini-Project.mlflow/#/experiments/1\n"
     ]
    },
    {
     "name": "stderr",
     "output_type": "stream",
     "text": [
      "2025/02/12 11:50:43 WARNING mlflow.models.model: Model logged without a signature and input example. Please set `input_example` parameter when logging the model to auto infer the model signature.\n"
     ]
    },
    {
     "name": "stdout",
     "output_type": "stream",
     "text": [
      "Algorithm: RandomForest, Feature Engineering: TF-IDF\n",
      "Accuracy: 0.763855421686747\n",
      "Precision: 0.7643504531722054\n",
      "Recall: 0.7477832512315271\n",
      "F1 Score: 0.7559760956175299\n",
      "🏃 View run RandomForest with TF-IDF at: https://dagshub.com/aniketjayant953/ML-OPs-Mini-Project.mlflow/#/experiments/1/runs/8f4af24944734e31932db0ffdea9ef31\n",
      "🧪 View experiment at: https://dagshub.com/aniketjayant953/ML-OPs-Mini-Project.mlflow/#/experiments/1\n"
     ]
    },
    {
     "name": "stderr",
     "output_type": "stream",
     "text": [
      "2025/02/12 11:52:16 WARNING mlflow.models.model: Model logged without a signature and input example. Please set `input_example` parameter when logging the model to auto infer the model signature.\n"
     ]
    },
    {
     "name": "stdout",
     "output_type": "stream",
     "text": [
      "Algorithm: GradientBoosting, Feature Engineering: BoW\n",
      "Accuracy: 0.7272289156626506\n",
      "Precision: 0.8071135430916553\n",
      "Recall: 0.5812807881773399\n",
      "F1 Score: 0.6758304696449027\n",
      "🏃 View run GradientBoosting with BoW at: https://dagshub.com/aniketjayant953/ML-OPs-Mini-Project.mlflow/#/experiments/1/runs/28024e1f403c405baff463fb4a750e09\n",
      "🧪 View experiment at: https://dagshub.com/aniketjayant953/ML-OPs-Mini-Project.mlflow/#/experiments/1\n"
     ]
    },
    {
     "name": "stderr",
     "output_type": "stream",
     "text": [
      "2025/02/12 11:53:17 WARNING mlflow.models.model: Model logged without a signature and input example. Please set `input_example` parameter when logging the model to auto infer the model signature.\n"
     ]
    },
    {
     "name": "stdout",
     "output_type": "stream",
     "text": [
      "Algorithm: GradientBoosting, Feature Engineering: TF-IDF\n",
      "Accuracy: 0.7224096385542169\n",
      "Precision: 0.8052851182197497\n",
      "Recall: 0.5704433497536946\n",
      "F1 Score: 0.6678200692041523\n",
      "🏃 View run GradientBoosting with TF-IDF at: https://dagshub.com/aniketjayant953/ML-OPs-Mini-Project.mlflow/#/experiments/1/runs/e432e8d64fbc4a03b18b6c2972c2de2e\n",
      "🧪 View experiment at: https://dagshub.com/aniketjayant953/ML-OPs-Mini-Project.mlflow/#/experiments/1\n",
      "🏃 View run All Experiments at: https://dagshub.com/aniketjayant953/ML-OPs-Mini-Project.mlflow/#/experiments/1/runs/a0a98c811db047189d41eafe96894e4e\n",
      "🧪 View experiment at: https://dagshub.com/aniketjayant953/ML-OPs-Mini-Project.mlflow/#/experiments/1\n"
     ]
    }
   ],
   "source": [
    "# bow vs tfidf\n",
    "\n",
    "# Import necessary libraries\n",
    "import mlflow\n",
    "import mlflow.sklearn\n",
    "from sklearn.feature_extraction.text import CountVectorizer, TfidfVectorizer\n",
    "from sklearn.model_selection import train_test_split\n",
    "from sklearn.linear_model import LogisticRegression\n",
    "from sklearn.naive_bayes import MultinomialNB\n",
    "from xgboost import XGBClassifier\n",
    "from sklearn.ensemble import RandomForestClassifier, GradientBoostingClassifier\n",
    "from sklearn.metrics import accuracy_score, precision_score, recall_score, f1_score\n",
    "import pandas as pd\n",
    "import re\n",
    "import string\n",
    "from nltk.corpus import stopwords\n",
    "from nltk.stem import WordNetLemmatizer\n",
    "import numpy as np\n",
    "import os\n",
    "\n",
    "import dagshub\n",
    "\n",
    "mlflow.set_tracking_uri('https://dagshub.com/aniketjayant953/ML-OPs-Mini-Project.mlflow')\n",
    "dagshub.init(repo_owner='aniketjayant953', repo_name='ML-OPs-Mini-Project', mlflow=True)\n",
    "\n",
    "# Load the data\n",
    "df = pd.read_csv('https://raw.githubusercontent.com/campusx-official/jupyter-masterclass/main/tweet_emotions.csv').drop(columns=['tweet_id'])\n",
    "df.head()\n",
    "\n",
    "# Define text preprocessing functions\n",
    "def lemmatization(text):\n",
    "    \"\"\"Lemmatize the text.\"\"\"\n",
    "    lemmatizer = WordNetLemmatizer()\n",
    "    text = text.split()\n",
    "    text = [lemmatizer.lemmatize(word) for word in text]\n",
    "    return \" \".join(text)\n",
    "\n",
    "def remove_stop_words(text):\n",
    "    \"\"\"Remove stop words from the text.\"\"\"\n",
    "    stop_words = set(stopwords.words(\"english\"))\n",
    "    text = [word for word in str(text).split() if word not in stop_words]\n",
    "    return \" \".join(text)\n",
    "\n",
    "def removing_numbers(text):\n",
    "    \"\"\"Remove numbers from the text.\"\"\"\n",
    "    text = ''.join([char for char in text if not char.isdigit()])\n",
    "    return text\n",
    "\n",
    "def lower_case(text):\n",
    "    \"\"\"Convert text to lower case.\"\"\"\n",
    "    text = text.split()\n",
    "    text = [word.lower() for word in text]\n",
    "    return \" \".join(text)\n",
    "\n",
    "def removing_punctuations(text):\n",
    "    \"\"\"Remove punctuations from the text.\"\"\"\n",
    "    text = re.sub('[%s]' % re.escape(string.punctuation), ' ', text)\n",
    "    text = text.replace('؛', \"\")\n",
    "    text = re.sub('\\s+', ' ', text).strip()\n",
    "    return text\n",
    "\n",
    "def removing_urls(text):\n",
    "    \"\"\"Remove URLs from the text.\"\"\"\n",
    "    url_pattern = re.compile(r'https?://\\S+|www\\.\\S+')\n",
    "    return url_pattern.sub(r'', text)\n",
    "\n",
    "def normalize_text(df):\n",
    "    \"\"\"Normalize the text data.\"\"\"\n",
    "    try:\n",
    "        df['content'] = df['content'].apply(lower_case)\n",
    "        df['content'] = df['content'].apply(remove_stop_words)\n",
    "        df['content'] = df['content'].apply(removing_numbers)\n",
    "        df['content'] = df['content'].apply(removing_punctuations)\n",
    "        df['content'] = df['content'].apply(removing_urls)\n",
    "        df['content'] = df['content'].apply(lemmatization)\n",
    "        return df\n",
    "    except Exception as e:\n",
    "        print(f'Error during text normalization: {e}')\n",
    "        raise\n",
    "\n",
    "# Normalize the text data\n",
    "df = normalize_text(df)\n",
    "\n",
    "x = df['sentiment'].isin(['happiness','sadness'])\n",
    "df = df[x]\n",
    "\n",
    "df['sentiment'] = df['sentiment'].replace({'sadness':0, 'happiness':1})\n",
    "\n",
    "# Set the experiment name\n",
    "mlflow.set_experiment(\"Bow vs TfIdf\")\n",
    "\n",
    "# Define feature extraction methods\n",
    "vectorizers = {\n",
    "    'BoW': CountVectorizer(),\n",
    "    'TF-IDF': TfidfVectorizer()\n",
    "}\n",
    "\n",
    "# Define algorithms\n",
    "algorithms = {\n",
    "    'LogisticRegression': LogisticRegression(),\n",
    "    'MultinomialNB': MultinomialNB(),\n",
    "    'XGBoost': XGBClassifier(),\n",
    "    'RandomForest': RandomForestClassifier(),\n",
    "    'GradientBoosting': GradientBoostingClassifier()\n",
    "}\n",
    "\n",
    "# Start the parent run\n",
    "with mlflow.start_run(run_name=\"All Experiments\") as parent_run:\n",
    "    # Loop through algorithms and feature extraction methods (Child Runs)\n",
    "    for algo_name, algorithm in algorithms.items():\n",
    "        for vec_name, vectorizer in vectorizers.items():\n",
    "            with mlflow.start_run(run_name=f\"{algo_name} with {vec_name}\", nested=True) as child_run:\n",
    "                X = vectorizer.fit_transform(df['content'])\n",
    "                y = df['sentiment']\n",
    "                X_train, X_test, y_train, y_test = train_test_split(X, y, test_size=0.2, random_state=42)\n",
    "                \n",
    "\n",
    "                # Log preprocessing parameters\n",
    "                mlflow.log_param(\"vectorizer\", vec_name)\n",
    "                mlflow.log_param(\"algorithm\", algo_name)\n",
    "                mlflow.log_param(\"test_size\", 0.2)\n",
    "                \n",
    "                # Model training\n",
    "                model = algorithm\n",
    "                model.fit(X_train, y_train)\n",
    "                \n",
    "                # Log model parameters\n",
    "                if algo_name == 'LogisticRegression':\n",
    "                    mlflow.log_param(\"C\", model.C)\n",
    "                elif algo_name == 'MultinomialNB':\n",
    "                    mlflow.log_param(\"alpha\", model.alpha)\n",
    "                elif algo_name == 'XGBoost':\n",
    "                    mlflow.log_param(\"n_estimators\", model.n_estimators)\n",
    "                    mlflow.log_param(\"learning_rate\", model.learning_rate)\n",
    "                elif algo_name == 'RandomForest':\n",
    "                    mlflow.log_param(\"n_estimators\", model.n_estimators)\n",
    "                    mlflow.log_param(\"max_depth\", model.max_depth)\n",
    "                elif algo_name == 'GradientBoosting':\n",
    "                    mlflow.log_param(\"n_estimators\", model.n_estimators)\n",
    "                    mlflow.log_param(\"learning_rate\", model.learning_rate)\n",
    "                    mlflow.log_param(\"max_depth\", model.max_depth)\n",
    "                \n",
    "                # Model evaluation\n",
    "                y_pred = model.predict(X_test)\n",
    "                accuracy = accuracy_score(y_test, y_pred)\n",
    "                precision = precision_score(y_test, y_pred)\n",
    "                recall = recall_score(y_test, y_pred)\n",
    "                f1 = f1_score(y_test, y_pred)\n",
    "                \n",
    "                # Log evaluation metrics\n",
    "                mlflow.log_metric(\"accuracy\", accuracy)\n",
    "                mlflow.log_metric(\"precision\", precision)\n",
    "                mlflow.log_metric(\"recall\", recall)\n",
    "                mlflow.log_metric(\"f1_score\", f1)\n",
    "                \n",
    "                # Log model\n",
    "                mlflow.sklearn.log_model(model, \"model\")\n",
    "                \n",
    "                # Save and log the notebook\n",
    "                import os\n",
    "                notebook_path = \"exp2_bow_vs_tfidf.ipynb\"\n",
    "                os.system(f\"jupyter nbconvert --to notebook --execute --inplace {notebook_path}\")\n",
    "                mlflow.log_artifact(notebook_path)\n",
    "                \n",
    "                # Print the results for verification\n",
    "                print(f\"Algorithm: {algo_name}, Feature Engineering: {vec_name}\")\n",
    "                print(f\"Accuracy: {accuracy}\")\n",
    "                print(f\"Precision: {precision}\")\n",
    "                print(f\"Recall: {recall}\")\n",
    "                print(f\"F1 Score: {f1}\")"
   ]
  },
  {
   "cell_type": "code",
   "execution_count": null,
   "metadata": {},
   "outputs": [],
   "source": []
  }
 ],
 "metadata": {
  "kernelspec": {
   "display_name": "myenv",
   "language": "python",
   "name": "python3"
  },
  "language_info": {
   "codemirror_mode": {
    "name": "ipython",
    "version": 3
   },
   "file_extension": ".py",
   "mimetype": "text/x-python",
   "name": "python",
   "nbconvert_exporter": "python",
   "pygments_lexer": "ipython3",
   "version": "3.11.3"
  }
 },
 "nbformat": 4,
 "nbformat_minor": 2
}
